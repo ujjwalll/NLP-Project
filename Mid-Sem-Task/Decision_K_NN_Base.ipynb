{
  "nbformat": 4,
  "nbformat_minor": 0,
  "metadata": {
    "colab": {
      "name": "Decision_K-NN_Base",
      "provenance": []
    },
    "kernelspec": {
      "name": "python3",
      "display_name": "Python 3"
    }
  },
  "cells": [
    {
      "cell_type": "code",
      "metadata": {
        "id": "fAXYRs-W-v83"
      },
      "source": [
        "import pandas as pd\n",
        "import numpy as np\n",
        "from sklearn.feature_extraction.text import CountVectorizer\n",
        "from sklearn.preprocessing import LabelEncoder\n",
        "import scipy.sparse as sp\n",
        "from sklearn.feature_extraction.text import TfidfVectorizer\n",
        "from sklearn.feature_extraction.text import TfidfTransformer\n",
        "from sklearn.ensemble import RandomForestClassifier\n",
        "from sklearn import tree\n",
        "from sklearn.model_selection import train_test_split\n",
        "from sklearn.model_selection import cross_val_score\n",
        "from sklearn import metrics\n",
        "from sklearn.neighbors import KNeighborsClassifier\n",
        "from sklearn.metrics import accuracy_score,recall_score,confusion_matrix"
      ],
      "execution_count": 22,
      "outputs": []
    },
    {
      "cell_type": "code",
      "metadata": {
        "id": "Rc87XUj5-3VF"
      },
      "source": [
        "train = pd.read_csv(\"/content/Constraint_English_Train - Sheet1.csv\")\n",
        "val = pd.read_csv(\"/content/Constraint_English_Val - Sheet1.csv\")"
      ],
      "execution_count": 2,
      "outputs": []
    },
    {
      "cell_type": "code",
      "metadata": {
        "id": "ZrOW1RHq_KOA"
      },
      "source": [
        "lab = {'fake': 1,'real': 0}\n",
        "train.label = [lab[item] for item in train.label]\n",
        "val.label = [lab[item] for item in val.label]"
      ],
      "execution_count": 4,
      "outputs": []
    },
    {
      "cell_type": "code",
      "metadata": {
        "id": "hQhUDIZf_aOQ"
      },
      "source": [
        "X_train = np.array(train.tweet)\n",
        "y_train = np.array(train.label)\n",
        "X_test = np.array(val.tweet)\n",
        "y_test = np.array(val.label)"
      ],
      "execution_count": 5,
      "outputs": []
    },
    {
      "cell_type": "code",
      "metadata": {
        "id": "LqXitKg-_kFs",
        "outputId": "b7f3b6ef-fffa-4d5b-e9dc-496c387292b7",
        "colab": {
          "base_uri": "https://localhost:8080/",
          "height": 50
        }
      },
      "source": [
        "count_vect = CountVectorizer(lowercase=False)\n",
        "X_train_counts = count_vect.fit_transform(X_train)\n",
        "X_test_counts = count_vect.transform(X_test)\n",
        "\n",
        "tfidf_transformer= TfidfTransformer(use_idf=True, smooth_idf=True, sublinear_tf=False)\n",
        "\n",
        "X_train_tfidf = tfidf_transformer.fit_transform(X_train_counts)\n",
        "X_test_tfidf = tfidf_transformer.fit_transform(X_test_counts)\n",
        "\n",
        "rf = tree.DecisionTreeClassifier(max_depth=20)\n",
        "rf.fit(X_train_tfidf,y_train)\n",
        "y_pred = rf.predict(X_test_tfidf)\n",
        "acc = accuracy_score(y_test,y_pred)\n",
        "print(\"Decision Trees\")\n",
        "print (\"Accuracy\", float(\"{0:.2f}\".format(acc*100)))"
      ],
      "execution_count": 21,
      "outputs": [
        {
          "output_type": "stream",
          "text": [
            "Decision Trees\n",
            "Accuracy 87.38\n"
          ],
          "name": "stdout"
        }
      ]
    },
    {
      "cell_type": "code",
      "metadata": {
        "id": "rTr1SIG2BTC1",
        "outputId": "6b493b1c-be85-4c57-f7a0-507b73670a26",
        "colab": {
          "base_uri": "https://localhost:8080/",
          "height": 50
        }
      },
      "source": [
        "neigh = KNeighborsClassifier(n_neighbors=3, weights=\"distance\", algorithm=\"brute\")\n",
        "neigh.fit(X_train_tfidf,y_train)\n",
        "y_pred = neigh.predict(X_test_tfidf)\n",
        "acc = accuracy_score(y_test,y_pred)\n",
        "print(\"k-NN\")\n",
        "print (\"Accuracy\", float(\"{0:.2f}\".format(acc*100)))"
      ],
      "execution_count": 31,
      "outputs": [
        {
          "output_type": "stream",
          "text": [
            "k-NN\n",
            "Accuracy 92.06\n"
          ],
          "name": "stdout"
        }
      ]
    }
  ]
}