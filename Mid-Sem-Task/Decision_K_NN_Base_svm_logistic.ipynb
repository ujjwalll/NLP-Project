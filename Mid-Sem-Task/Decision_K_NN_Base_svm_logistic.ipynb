{
 "cells": [
  {
   "cell_type": "code",
   "execution_count": 20,
   "metadata": {
    "id": "fAXYRs-W-v83"
   },
   "outputs": [],
   "source": [
    "import pandas as pd\n",
    "import numpy as np\n",
    "from sklearn.feature_extraction.text import CountVectorizer\n",
    "from sklearn.preprocessing import LabelEncoder\n",
    "import scipy.sparse as sp\n",
    "from sklearn.feature_extraction.text import TfidfVectorizer\n",
    "from sklearn.feature_extraction.text import TfidfTransformer\n",
    "from sklearn.ensemble import RandomForestClassifier\n",
    "from sklearn import tree\n",
    "from sklearn.model_selection import train_test_split\n",
    "from sklearn.model_selection import cross_val_score\n",
    "from sklearn import metrics\n",
    "from sklearn.neighbors import KNeighborsClassifier\n",
    "from sklearn.metrics import accuracy_score,recall_score,confusion_matrix\n",
    "from sklearn import svm\n",
    "from sklearn.linear_model import LogisticRegression"
   ]
  },
  {
   "cell_type": "code",
   "execution_count": 3,
   "metadata": {
    "id": "Rc87XUj5-3VF"
   },
   "outputs": [],
   "source": [
    "train = pd.read_csv(\"./Dataset/Constraint_English_Train - Sheet1.csv\")\n",
    "val = pd.read_csv(\"./Dataset/Constraint_English_Val - Sheet1.csv\")"
   ]
  },
  {
   "cell_type": "code",
   "execution_count": 4,
   "metadata": {
    "id": "ZrOW1RHq_KOA"
   },
   "outputs": [],
   "source": [
    "lab = {'fake': 1,'real': 0}\n",
    "train.label = [lab[item] for item in train.label]\n",
    "val.label = [lab[item] for item in val.label]"
   ]
  },
  {
   "cell_type": "code",
   "execution_count": 5,
   "metadata": {
    "id": "hQhUDIZf_aOQ"
   },
   "outputs": [],
   "source": [
    "X_train = np.array(train.tweet)\n",
    "y_train = np.array(train.label)\n",
    "X_test = np.array(val.tweet)\n",
    "y_test = np.array(val.label)"
   ]
  },
  {
   "cell_type": "code",
   "execution_count": 6,
   "metadata": {
    "colab": {
     "base_uri": "https://localhost:8080/",
     "height": 50
    },
    "id": "LqXitKg-_kFs",
    "outputId": "b7f3b6ef-fffa-4d5b-e9dc-496c387292b7"
   },
   "outputs": [
    {
     "name": "stdout",
     "output_type": "stream",
     "text": [
      "Decision Trees\n",
      "Accuracy 87.48\n"
     ]
    }
   ],
   "source": [
    "count_vect = CountVectorizer(lowercase=False)\n",
    "X_train_counts = count_vect.fit_transform(X_train)\n",
    "X_test_counts = count_vect.transform(X_test)\n",
    "\n",
    "tfidf_transformer= TfidfTransformer(use_idf=True, smooth_idf=True, sublinear_tf=False)\n",
    "\n",
    "X_train_tfidf = tfidf_transformer.fit_transform(X_train_counts)\n",
    "X_test_tfidf = tfidf_transformer.fit_transform(X_test_counts)\n",
    "\n",
    "rf = tree.DecisionTreeClassifier(max_depth=20)\n",
    "rf.fit(X_train_tfidf,y_train)\n",
    "y_pred = rf.predict(X_test_tfidf)\n",
    "acc = accuracy_score(y_test,y_pred)\n",
    "print(\"Decision Trees\")\n",
    "print (\"Accuracy\", float(\"{0:.2f}\".format(acc*100)))"
   ]
  },
  {
   "cell_type": "code",
   "execution_count": 7,
   "metadata": {
    "colab": {
     "base_uri": "https://localhost:8080/",
     "height": 50
    },
    "id": "rTr1SIG2BTC1",
    "outputId": "6b493b1c-be85-4c57-f7a0-507b73670a26"
   },
   "outputs": [
    {
     "name": "stdout",
     "output_type": "stream",
     "text": [
      "k-NN\n",
      "Accuracy 92.06\n"
     ]
    }
   ],
   "source": [
    "neigh = KNeighborsClassifier(n_neighbors=3, weights=\"distance\", algorithm=\"brute\")\n",
    "neigh.fit(X_train_tfidf,y_train)\n",
    "y_pred = neigh.predict(X_test_tfidf)\n",
    "acc = accuracy_score(y_test,y_pred)\n",
    "print(\"k-NN\")\n",
    "print (\"Accuracy\", float(\"{0:.2f}\".format(acc*100)))"
   ]
  },
  {
   "cell_type": "code",
   "execution_count": 10,
   "metadata": {},
   "outputs": [],
   "source": [
    "# Preprocessing - count vectorizer\n",
    "count_vect = CountVectorizer(lowercase=False)\n",
    "X_train_counts = count_vect.fit_transform(X_train)\n",
    "X_test_counts = count_vect.transform(X_test)"
   ]
  },
  {
   "cell_type": "code",
   "execution_count": 27,
   "metadata": {},
   "outputs": [
    {
     "name": "stdout",
     "output_type": "stream",
     "text": [
      "SVM\n",
      "Accuracy 93.74\n"
     ]
    }
   ],
   "source": [
    "svmclf = svm.SVC()\n",
    "svmclf.fit(X_train_counts, y_train)\n",
    "y_pred = svmclf.predict(X_test_counts)\n",
    "acc = accuracy_score(y_test,y_pred)\n",
    "print(\"SVM\")\n",
    "print (\"Accuracy\", float(\"{0:.2f}\".format(acc*100)))"
   ]
  },
  {
   "cell_type": "code",
   "execution_count": 16,
   "metadata": {},
   "outputs": [],
   "source": [
    "# Preprocessing - Tfid Vectorizer\n",
    "tfidf_transformer= TfidfTransformer(use_idf=True, smooth_idf=True, sublinear_tf=False)\n",
    "X_train_tfidf = tfidf_transformer.fit_transform(X_train_counts)\n",
    "X_test_tfidf = tfidf_transformer.transform(X_test_counts)"
   ]
  },
  {
   "cell_type": "code",
   "execution_count": 18,
   "metadata": {
    "scrolled": true
   },
   "outputs": [
    {
     "name": "stdout",
     "output_type": "stream",
     "text": [
      "SVM\n",
      "Accuracy 94.25\n"
     ]
    }
   ],
   "source": [
    "svmclf = svm.SVC()\n",
    "svmclf.fit(X_train_tfidf, y_train)\n",
    "y_pred = svmclf.predict(X_test_tfidf)\n",
    "acc = accuracy_score(y_test,y_pred)\n",
    "print(\"SVM\")\n",
    "print (\"Accuracy\", float(\"{0:.2f}\".format(acc*100)))"
   ]
  },
  {
   "cell_type": "code",
   "execution_count": 33,
   "metadata": {},
   "outputs": [
    {
     "name": "stdout",
     "output_type": "stream",
     "text": [
      "LR - CV\n",
      "Accuracy 93.6\n"
     ]
    }
   ],
   "source": [
    "lrclf = LogisticRegression(random_state=0)\n",
    "lrclf.fit(X_train_counts, y_train)\n",
    "y_pred = lrclf.predict(X_test_counts)\n",
    "acc = accuracy_score(y_test,y_pred)\n",
    "print(\"LR - CV\")\n",
    "print (\"Accuracy\", float(\"{0:.2f}\".format(acc*100)))"
   ]
  },
  {
   "cell_type": "code",
   "execution_count": 30,
   "metadata": {},
   "outputs": [
    {
     "name": "stdout",
     "output_type": "stream",
     "text": [
      "LR - tfidf \n",
      "Accuracy 92.9\n"
     ]
    }
   ],
   "source": [
    "lrclf = LogisticRegression(random_state=0)\n",
    "lrclf.fit(X_train_tfidf, y_train)\n",
    "y_pred = lrclf.predict(X_test_tfidf)\n",
    "acc = accuracy_score(y_test,y_pred)\n",
    "print(\"LR - tfidf \")\n",
    "print (\"Accuracy\", float(\"{0:.2f}\".format(acc*100)))"
   ]
  },
  {
   "cell_type": "code",
   "execution_count": null,
   "metadata": {},
   "outputs": [],
   "source": []
  }
 ],
 "metadata": {
  "colab": {
   "name": "Decision_K-NN_Base",
   "provenance": []
  },
  "kernelspec": {
   "display_name": "Python 3",
   "language": "python",
   "name": "python3"
  },
  "language_info": {
   "codemirror_mode": {
    "name": "ipython",
    "version": 3
   },
   "file_extension": ".py",
   "mimetype": "text/x-python",
   "name": "python",
   "nbconvert_exporter": "python",
   "pygments_lexer": "ipython3",
   "version": "3.7.7"
  }
 },
 "nbformat": 4,
 "nbformat_minor": 1
}
